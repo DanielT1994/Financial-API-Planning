{
 "cells": [
  {
   "cell_type": "markdown",
   "metadata": {},
   "source": [
    "# Unit 5 - Financial Planning\n"
   ]
  },
  {
   "cell_type": "code",
   "execution_count": 1,
   "metadata": {},
   "outputs": [],
   "source": [
    "# Initial imports\n",
    "import os\n",
    "import requests\n",
    "import pandas as pd\n",
    "from dotenv import load_dotenv\n",
    "import alpaca_trade_api as tradeapi\n",
    "from MCForecastTools import MCSimulation\n",
    "\n",
    "%matplotlib inline"
   ]
  },
  {
   "cell_type": "code",
   "execution_count": 2,
   "metadata": {},
   "outputs": [
    {
     "data": {
      "text/plain": [
       "True"
      ]
     },
     "execution_count": 2,
     "metadata": {},
     "output_type": "execute_result"
    }
   ],
   "source": [
    "# Load .env enviroment variables\n",
    "load_dotenv()"
   ]
  },
  {
   "cell_type": "markdown",
   "metadata": {},
   "source": [
    "## Part 1 - Personal Finance Planner"
   ]
  },
  {
   "cell_type": "markdown",
   "metadata": {},
   "source": [
    "### Collect Crypto Prices Using the `requests` Library"
   ]
  },
  {
   "cell_type": "code",
   "execution_count": 3,
   "metadata": {},
   "outputs": [],
   "source": [
    "# Set current amount of crypto assets\n",
    "my_btc = 1.2\n",
    "my_eth = 5.3"
   ]
  },
  {
   "cell_type": "code",
   "execution_count": 4,
   "metadata": {},
   "outputs": [],
   "source": [
    "# Crypto API URLs\n",
    "btc_url = \"https://api.alternative.me/v2/ticker/Bitcoin/?convert=CAD\"\n",
    "eth_url = \"https://api.alternative.me/v2/ticker/Ethereum/?convert=CAD\""
   ]
  },
  {
   "cell_type": "code",
   "execution_count": 5,
   "metadata": {},
   "outputs": [
    {
     "name": "stdout",
     "output_type": "stream",
     "text": [
      "The current value of your 1.2 BTC is $81058.80 USD\n",
      "The current value of your 5.3 ETH is $25359.86 USD\n"
     ]
    }
   ],
   "source": [
    "# Fetch current BTC price\n",
    "btc_data = requests.get(btc_url).json()\n",
    "btc_price = (btc_data['data']['1']['quotes']['USD']['price'])\n",
    "\n",
    "# Fetch current ETH price\n",
    "eth_data = requests.get(eth_url).json()\n",
    "eth_price = (eth_data['data']['1027']['quotes']['USD']['price'])\n",
    "\n",
    "# Compute current value of my crpto\n",
    "my_btc_value = btc_price * my_btc\n",
    "my_eth_value = eth_price * my_eth\n",
    "# Print current crypto wallet balance\n",
    "print(f\"The current value of your {my_btc} BTC is ${my_btc_value:0.2f} USD\")\n",
    "print(f\"The current value of your {my_eth} ETH is ${my_eth_value:0.2f} USD\")"
   ]
  },
  {
   "cell_type": "markdown",
   "metadata": {},
   "source": [
    "### Collect Investments Data Using Alpaca: `SPY` (stocks) and `AGG` (bonds)"
   ]
  },
  {
   "cell_type": "code",
   "execution_count": 6,
   "metadata": {},
   "outputs": [],
   "source": [
    "# Current amount of shares\n",
    "#Assume the following amount of shares in stocks and bonds: `50` SPY (stocks) and `200` AGG (bonds).\n",
    "my_spy = 50\n",
    "my_agg = 200"
   ]
  },
  {
   "cell_type": "code",
   "execution_count": 7,
   "metadata": {},
   "outputs": [],
   "source": [
    "# Set Alpaca API key and secret\n",
    "quandl_api_key = os.getenv(\"QUANDL_API_KEY\")\n",
    "alpaca_api_key = os.getenv(\"ALPACA_API_KEY\")\n",
    "alpaca_secret_key = os.getenv(\"ALPACA_SECRET_KEY\")\n",
    "# Create the Alpaca API object\n",
    "alpaca = tradeapi.REST(alpaca_api_key, alpaca_secret_key, api_version=\"v2\")"
   ]
  },
  {
   "cell_type": "code",
   "execution_count": 8,
   "metadata": {},
   "outputs": [
    {
     "data": {
      "text/html": [
       "<div>\n",
       "<style scoped>\n",
       "    .dataframe tbody tr th:only-of-type {\n",
       "        vertical-align: middle;\n",
       "    }\n",
       "\n",
       "    .dataframe tbody tr th {\n",
       "        vertical-align: top;\n",
       "    }\n",
       "\n",
       "    .dataframe thead tr th {\n",
       "        text-align: left;\n",
       "    }\n",
       "\n",
       "    .dataframe thead tr:last-of-type th {\n",
       "        text-align: right;\n",
       "    }\n",
       "</style>\n",
       "<table border=\"1\" class=\"dataframe\">\n",
       "  <thead>\n",
       "    <tr>\n",
       "      <th></th>\n",
       "      <th colspan=\"5\" halign=\"left\">AGG</th>\n",
       "      <th colspan=\"5\" halign=\"left\">SPY</th>\n",
       "    </tr>\n",
       "    <tr>\n",
       "      <th></th>\n",
       "      <th>open</th>\n",
       "      <th>high</th>\n",
       "      <th>low</th>\n",
       "      <th>close</th>\n",
       "      <th>volume</th>\n",
       "      <th>open</th>\n",
       "      <th>high</th>\n",
       "      <th>low</th>\n",
       "      <th>close</th>\n",
       "      <th>volume</th>\n",
       "    </tr>\n",
       "    <tr>\n",
       "      <th>time</th>\n",
       "      <th></th>\n",
       "      <th></th>\n",
       "      <th></th>\n",
       "      <th></th>\n",
       "      <th></th>\n",
       "      <th></th>\n",
       "      <th></th>\n",
       "      <th></th>\n",
       "      <th></th>\n",
       "      <th></th>\n",
       "    </tr>\n",
       "  </thead>\n",
       "  <tbody>\n",
       "    <tr>\n",
       "      <th>2021-06-21 00:00:00-04:00</th>\n",
       "      <td>115.06</td>\n",
       "      <td>115.120</td>\n",
       "      <td>114.9210</td>\n",
       "      <td>114.96</td>\n",
       "      <td>4934966</td>\n",
       "      <td>416.80</td>\n",
       "      <td>421.0600</td>\n",
       "      <td>415.93</td>\n",
       "      <td>420.85</td>\n",
       "      <td>63727942</td>\n",
       "    </tr>\n",
       "    <tr>\n",
       "      <th>2021-06-22 00:00:00-04:00</th>\n",
       "      <td>114.83</td>\n",
       "      <td>115.140</td>\n",
       "      <td>114.8300</td>\n",
       "      <td>115.11</td>\n",
       "      <td>5299846</td>\n",
       "      <td>420.85</td>\n",
       "      <td>424.0000</td>\n",
       "      <td>420.08</td>\n",
       "      <td>423.06</td>\n",
       "      <td>50857233</td>\n",
       "    </tr>\n",
       "    <tr>\n",
       "      <th>2021-06-23 00:00:00-04:00</th>\n",
       "      <td>115.06</td>\n",
       "      <td>115.138</td>\n",
       "      <td>114.9900</td>\n",
       "      <td>115.05</td>\n",
       "      <td>5000374</td>\n",
       "      <td>423.19</td>\n",
       "      <td>424.0500</td>\n",
       "      <td>422.51</td>\n",
       "      <td>422.60</td>\n",
       "      <td>41476351</td>\n",
       "    </tr>\n",
       "    <tr>\n",
       "      <th>2021-06-24 00:00:00-04:00</th>\n",
       "      <td>115.10</td>\n",
       "      <td>115.170</td>\n",
       "      <td>115.0450</td>\n",
       "      <td>115.07</td>\n",
       "      <td>6672880</td>\n",
       "      <td>424.89</td>\n",
       "      <td>425.5500</td>\n",
       "      <td>424.62</td>\n",
       "      <td>425.09</td>\n",
       "      <td>39863529</td>\n",
       "    </tr>\n",
       "    <tr>\n",
       "      <th>2021-06-25 00:00:00-04:00</th>\n",
       "      <td>115.11</td>\n",
       "      <td>115.130</td>\n",
       "      <td>114.7516</td>\n",
       "      <td>114.89</td>\n",
       "      <td>3987588</td>\n",
       "      <td>425.90</td>\n",
       "      <td>427.0943</td>\n",
       "      <td>425.55</td>\n",
       "      <td>426.57</td>\n",
       "      <td>50460394</td>\n",
       "    </tr>\n",
       "  </tbody>\n",
       "</table>\n",
       "</div>"
      ],
      "text/plain": [
       "                              AGG                                         SPY  \\\n",
       "                             open     high       low   close   volume    open   \n",
       "time                                                                            \n",
       "2021-06-21 00:00:00-04:00  115.06  115.120  114.9210  114.96  4934966  416.80   \n",
       "2021-06-22 00:00:00-04:00  114.83  115.140  114.8300  115.11  5299846  420.85   \n",
       "2021-06-23 00:00:00-04:00  115.06  115.138  114.9900  115.05  5000374  423.19   \n",
       "2021-06-24 00:00:00-04:00  115.10  115.170  115.0450  115.07  6672880  424.89   \n",
       "2021-06-25 00:00:00-04:00  115.11  115.130  114.7516  114.89  3987588  425.90   \n",
       "\n",
       "                                                               \n",
       "                               high     low   close    volume  \n",
       "time                                                           \n",
       "2021-06-21 00:00:00-04:00  421.0600  415.93  420.85  63727942  \n",
       "2021-06-22 00:00:00-04:00  424.0000  420.08  423.06  50857233  \n",
       "2021-06-23 00:00:00-04:00  424.0500  422.51  422.60  41476351  \n",
       "2021-06-24 00:00:00-04:00  425.5500  424.62  425.09  39863529  \n",
       "2021-06-25 00:00:00-04:00  427.0943  425.55  426.57  50460394  "
      ]
     },
     "execution_count": 8,
     "metadata": {},
     "output_type": "execute_result"
    }
   ],
   "source": [
    "# Format current date as ISO format\n",
    "start_day = pd.Timestamp(\"27-10-2021\", tz = \"Australia/Sydney\").isoformat()\n",
    "end_day = pd.Timestamp(\"27-10-2021\", tz = \"Australia/Sydney\").isoformat()\n",
    "today = pd.Timestamp(\"27-10-2021\", tz = \"Australia/Sydney\").isoformat()\n",
    "# Set the tickers\n",
    "tickers = [\"AGG\", \"SPY\"]\n",
    "weights = [0.4,0.6]\n",
    "# Set timeframe to '1D' for Alpaca API\n",
    "timeframe = \"1D\"\n",
    "\n",
    "# Get current closing prices for SPY and AGG\n",
    "stocks = alpaca.get_barset(symbols = tickers, timeframe = \"1D\").df\n",
    "\n",
    "# Preview DataFrame\n",
    "stocks.head()"
   ]
  },
  {
   "cell_type": "code",
   "execution_count": 9,
   "metadata": {},
   "outputs": [
    {
     "name": "stdout",
     "output_type": "stream",
     "text": [
      "Current AGG closing price: $115.33\n",
      "Current SPY closing price: $467.38\n"
     ]
    }
   ],
   "source": [
    "# Pick AGG and SPY close prices\n",
    "agg_close_prices = stocks.iloc[:,3]\n",
    "spy_close_prices = stocks.iloc[:,8]\n",
    "#taking the current close price\n",
    "agg_close_price = agg_close_prices.iloc[-1]\n",
    "spy_close_price = spy_close_prices.iloc[-1]\n",
    "# Print AGG and SPY close prices\n",
    "print(f\"Current AGG closing price: ${agg_close_price}\")\n",
    "print(f\"Current SPY closing price: ${spy_close_price}\")"
   ]
  },
  {
   "cell_type": "code",
   "execution_count": 10,
   "metadata": {},
   "outputs": [
    {
     "name": "stdout",
     "output_type": "stream",
     "text": [
      "The current value of your 50 SPY shares is $23369.00\n",
      "The current value of your 200 AGG shares is $23066.00\n"
     ]
    }
   ],
   "source": [
    "# Compute the current value of shares\n",
    "my_spy_value = my_spy * spy_close_price\n",
    "my_agg_value = my_agg * agg_close_price\n",
    "\n",
    "# Print current value of share\n",
    "print(f\"The current value of your {my_spy} SPY shares is ${my_spy_value:0.2f}\")\n",
    "print(f\"The current value of your {my_agg} AGG shares is ${my_agg_value:0.2f}\")"
   ]
  },
  {
   "cell_type": "markdown",
   "metadata": {},
   "source": [
    "### Savings Health Analysis"
   ]
  },
  {
   "cell_type": "markdown",
   "metadata": {},
   "source": [
    "In this section, you will assess the financial health of the credit union's members.\n",
    "\n",
    "1. Create a variable called `monthly_income` and set its value to `12000`.\n",
    "\n",
    "2. To analyze savings health, create a DataFrame called `df_savings` with two rows. Store the total value in dollars of the crypto assets in the first row and the total value of the shares in the second row.\n",
    "\n",
    "    **Hint:** The `df_savings` DataFrame should have one column named `amount` and two rows where `crypto` and `shares` are the index values: \n",
    "    \n",
    "    ![df_savings](Images/df_savings.png)\n",
    "\n",
    "3. Use the `df_savings` DataFrame to plot a pie chart to visualize the composition of personal savings.\n",
    "\n",
    "4. Use `if` conditional statements to validate if the current savings are enough for an emergency fund. An ideal emergency fund should be equal to three times your monthly income.\n",
    "\n",
    "    * If total savings are greater than the emergency fund, display a message congratulating the person for having enough money in this fund.\n",
    "\n",
    "    * If total savings are equal to the emergency fund, display a message congratulating the person on reaching this financial goal.\n",
    "\n",
    "    * If total savings are less than the emergency fund, display a message showing how many dollars away the person is from reaching the goal."
   ]
  },
  {
   "cell_type": "code",
   "execution_count": 11,
   "metadata": {},
   "outputs": [
    {
     "data": {
      "text/html": [
       "<div>\n",
       "<style scoped>\n",
       "    .dataframe tbody tr th:only-of-type {\n",
       "        vertical-align: middle;\n",
       "    }\n",
       "\n",
       "    .dataframe tbody tr th {\n",
       "        vertical-align: top;\n",
       "    }\n",
       "\n",
       "    .dataframe thead th {\n",
       "        text-align: right;\n",
       "    }\n",
       "</style>\n",
       "<table border=\"1\" class=\"dataframe\">\n",
       "  <thead>\n",
       "    <tr style=\"text-align: right;\">\n",
       "      <th></th>\n",
       "      <th>amount</th>\n",
       "    </tr>\n",
       "  </thead>\n",
       "  <tbody>\n",
       "    <tr>\n",
       "      <th>shares</th>\n",
       "      <td>46435.000</td>\n",
       "    </tr>\n",
       "    <tr>\n",
       "      <th>crypto</th>\n",
       "      <td>106418.664</td>\n",
       "    </tr>\n",
       "  </tbody>\n",
       "</table>\n",
       "</div>"
      ],
      "text/plain": [
       "            amount\n",
       "shares   46435.000\n",
       "crypto  106418.664"
      ]
     },
     "metadata": {},
     "output_type": "display_data"
    }
   ],
   "source": [
    "# Set monthly household income\n",
    "monthly_income = 12000\n",
    "\n",
    "# Create savings DataFrame\n",
    "total_share_value = my_spy_value + my_agg_value\n",
    "total_crypto_value = my_btc_value + my_eth_value\n",
    "data = {'amount':[total_share_value, total_crypto_value]}\n",
    "df_savings = pd.DataFrame(data, index = ['shares','crypto'])\n",
    "# Display savings DataFrame\n",
    "display(df_savings)"
   ]
  },
  {
   "cell_type": "code",
   "execution_count": 12,
   "metadata": {},
   "outputs": [
    {
     "data": {
      "text/plain": [
       "<AxesSubplot:title={'center':'% of Assets (Shares/Crypto)'}, ylabel='amount'>"
      ]
     },
     "execution_count": 12,
     "metadata": {},
     "output_type": "execute_result"
    },
    {
     "data": {
      "image/png": "[encoded data removed]",
      "text/plain": [
       "<Figure size 864x864 with 1 Axes>"
      ]
     },
     "metadata": {},
     "output_type": "display_data"
    }
   ],
   "source": [
    "# Plot savings pie chart\n",
    "df_savings.plot(kind = 'pie', y = 'amount', title = '% of Assets (Shares/Crypto)', figsize = (12,12), autopct='%1.1f%%',\n",
    "        shadow=True, startangle=90, explode = (0.1, 0))"
   ]
  },
  {
   "cell_type": "markdown",
   "metadata": {},
   "source": [
    "4. Use `if` conditional statements to validate if the current savings are enough for an emergency fund. An ideal emergency fund should be equal to three times your monthly income.\n",
    "\n",
    "    * If total savings are greater than the emergency fund, display a message congratulating the person for having enough money in this fund.\n",
    "\n",
    "    * If total savings are equal to the emergency fund, display a message congratulating the person on reaching this financial goal.\n",
    "\n",
    "    * If total savings are less than the emergency fund, display a message showing how many dollars away the person is from reaching the goal."
   ]
  },
  {
   "cell_type": "code",
   "execution_count": 13,
   "metadata": {},
   "outputs": [],
   "source": [
    "# Set ideal emergency fund\n",
    "emergency_fund = monthly_income * 3\n",
    "\n",
    "# Calculate total amount of savings\n",
    "total_savings = total_share_value + total_crypto_value\n",
    "\n",
    "# Validate saving health\n",
    "def emergency_fund_calculator (x):\n",
    "    if x > emergency_fund:\n",
    "        print (\"You have enough savings in your emergency fund!\")\n",
    "    elif x == emergency_fund:\n",
    "        print (\"You have reached your emergency fund goal.\")\n",
    "    else:\n",
    "        print (\"You are short from your emergency fund goal by\", (emergency_fund - total_savings))"
   ]
  },
  {
   "cell_type": "code",
   "execution_count": 14,
   "metadata": {},
   "outputs": [
    {
     "name": "stdout",
     "output_type": "stream",
     "text": [
      "You have enough savings in your emergency fund!\n"
     ]
    }
   ],
   "source": [
    "emergency_fund_calculator(total_savings)"
   ]
  },
  {
   "cell_type": "markdown",
   "metadata": {},
   "source": [
    "## Part 2 - Retirement Planning\n",
    "\n",
    "### Monte Carlo Simulation"
   ]
  },
  {
   "cell_type": "code",
   "execution_count": 15,
   "metadata": {},
   "outputs": [],
   "source": [
    "# Set start and end dates of five years back from today.\n",
    "# Sample results may vary from the solution based on the time frame chosen\n",
    "start_date = pd.Timestamp('2015-08-07', tz='America/New_York').isoformat()\n",
    "end_date = pd.Timestamp('2020-08-07', tz='America/New_York').isoformat()"
   ]
  },
  {
   "cell_type": "code",
   "execution_count": 16,
   "metadata": {},
   "outputs": [
    {
     "data": {
      "text/html": [
       "<div>\n",
       "<style scoped>\n",
       "    .dataframe tbody tr th:only-of-type {\n",
       "        vertical-align: middle;\n",
       "    }\n",
       "\n",
       "    .dataframe tbody tr th {\n",
       "        vertical-align: top;\n",
       "    }\n",
       "\n",
       "    .dataframe thead tr th {\n",
       "        text-align: left;\n",
       "    }\n",
       "\n",
       "    .dataframe thead tr:last-of-type th {\n",
       "        text-align: right;\n",
       "    }\n",
       "</style>\n",
       "<table border=\"1\" class=\"dataframe\">\n",
       "  <thead>\n",
       "    <tr>\n",
       "      <th></th>\n",
       "      <th colspan=\"5\" halign=\"left\">AGG</th>\n",
       "      <th colspan=\"5\" halign=\"left\">SPY</th>\n",
       "    </tr>\n",
       "    <tr>\n",
       "      <th></th>\n",
       "      <th>open</th>\n",
       "      <th>high</th>\n",
       "      <th>low</th>\n",
       "      <th>close</th>\n",
       "      <th>volume</th>\n",
       "      <th>open</th>\n",
       "      <th>high</th>\n",
       "      <th>low</th>\n",
       "      <th>close</th>\n",
       "      <th>volume</th>\n",
       "    </tr>\n",
       "    <tr>\n",
       "      <th>time</th>\n",
       "      <th></th>\n",
       "      <th></th>\n",
       "      <th></th>\n",
       "      <th></th>\n",
       "      <th></th>\n",
       "      <th></th>\n",
       "      <th></th>\n",
       "      <th></th>\n",
       "      <th></th>\n",
       "      <th></th>\n",
       "    </tr>\n",
       "  </thead>\n",
       "  <tbody>\n",
       "    <tr>\n",
       "      <th>2021-06-21 00:00:00-04:00</th>\n",
       "      <td>115.06</td>\n",
       "      <td>115.120</td>\n",
       "      <td>114.9210</td>\n",
       "      <td>114.96</td>\n",
       "      <td>4934966</td>\n",
       "      <td>416.80</td>\n",
       "      <td>421.0600</td>\n",
       "      <td>415.93</td>\n",
       "      <td>420.85</td>\n",
       "      <td>63727942</td>\n",
       "    </tr>\n",
       "    <tr>\n",
       "      <th>2021-06-22 00:00:00-04:00</th>\n",
       "      <td>114.83</td>\n",
       "      <td>115.140</td>\n",
       "      <td>114.8300</td>\n",
       "      <td>115.11</td>\n",
       "      <td>5299846</td>\n",
       "      <td>420.85</td>\n",
       "      <td>424.0000</td>\n",
       "      <td>420.08</td>\n",
       "      <td>423.06</td>\n",
       "      <td>50857233</td>\n",
       "    </tr>\n",
       "    <tr>\n",
       "      <th>2021-06-23 00:00:00-04:00</th>\n",
       "      <td>115.06</td>\n",
       "      <td>115.138</td>\n",
       "      <td>114.9900</td>\n",
       "      <td>115.05</td>\n",
       "      <td>5000374</td>\n",
       "      <td>423.19</td>\n",
       "      <td>424.0500</td>\n",
       "      <td>422.51</td>\n",
       "      <td>422.60</td>\n",
       "      <td>41476351</td>\n",
       "    </tr>\n",
       "    <tr>\n",
       "      <th>2021-06-24 00:00:00-04:00</th>\n",
       "      <td>115.10</td>\n",
       "      <td>115.170</td>\n",
       "      <td>115.0450</td>\n",
       "      <td>115.07</td>\n",
       "      <td>6672880</td>\n",
       "      <td>424.89</td>\n",
       "      <td>425.5500</td>\n",
       "      <td>424.62</td>\n",
       "      <td>425.09</td>\n",
       "      <td>39863529</td>\n",
       "    </tr>\n",
       "    <tr>\n",
       "      <th>2021-06-25 00:00:00-04:00</th>\n",
       "      <td>115.11</td>\n",
       "      <td>115.130</td>\n",
       "      <td>114.7516</td>\n",
       "      <td>114.89</td>\n",
       "      <td>3987588</td>\n",
       "      <td>425.90</td>\n",
       "      <td>427.0943</td>\n",
       "      <td>425.55</td>\n",
       "      <td>426.57</td>\n",
       "      <td>50460394</td>\n",
       "    </tr>\n",
       "  </tbody>\n",
       "</table>\n",
       "</div>"
      ],
      "text/plain": [
       "                              AGG                                         SPY  \\\n",
       "                             open     high       low   close   volume    open   \n",
       "time                                                                            \n",
       "2021-06-21 00:00:00-04:00  115.06  115.120  114.9210  114.96  4934966  416.80   \n",
       "2021-06-22 00:00:00-04:00  114.83  115.140  114.8300  115.11  5299846  420.85   \n",
       "2021-06-23 00:00:00-04:00  115.06  115.138  114.9900  115.05  5000374  423.19   \n",
       "2021-06-24 00:00:00-04:00  115.10  115.170  115.0450  115.07  6672880  424.89   \n",
       "2021-06-25 00:00:00-04:00  115.11  115.130  114.7516  114.89  3987588  425.90   \n",
       "\n",
       "                                                               \n",
       "                               high     low   close    volume  \n",
       "time                                                           \n",
       "2021-06-21 00:00:00-04:00  421.0600  415.93  420.85  63727942  \n",
       "2021-06-22 00:00:00-04:00  424.0000  420.08  423.06  50857233  \n",
       "2021-06-23 00:00:00-04:00  424.0500  422.51  422.60  41476351  \n",
       "2021-06-24 00:00:00-04:00  425.5500  424.62  425.09  39863529  \n",
       "2021-06-25 00:00:00-04:00  427.0943  425.55  426.57  50460394  "
      ]
     },
     "execution_count": 16,
     "metadata": {},
     "output_type": "execute_result"
    }
   ],
   "source": [
    "# Get 5 years' worth of historical data for SPY and AGG\n",
    "df_stock_data = alpaca.get_barset(symbols = tickers, timeframe = \"1D\").df\n",
    "\n",
    "# Display sample data\n",
    "df_stock_data.head()"
   ]
  },
  {
   "cell_type": "code",
   "execution_count": 17,
   "metadata": {},
   "outputs": [],
   "source": [
    "# Configuring a Monte Carlo simulation to forecast 30 years cumulative returns\n",
    "# Set number of simulations\n",
    "num_sims = 500\n",
    "\n",
    "# Configure a Monte Carlo simulation to forecast three years daily returns\n",
    "MC_PORTFOLIO = MCSimulation(\n",
    "    portfolio_data = df_stock_data,\n",
    "    num_simulation = num_sims,\n",
    "    num_trading_days = 252 * 30,\n",
    ")"
   ]
  },
  {
   "cell_type": "code",
   "execution_count": 18,
   "metadata": {},
   "outputs": [
    {
     "name": "stdout",
     "output_type": "stream",
     "text": [
      "Running Monte Carlo simulation number 0.\n",
      "Running Monte Carlo simulation number 10.\n",
      "Running Monte Carlo simulation number 20.\n",
      "Running Monte Carlo simulation number 30.\n",
      "Running Monte Carlo simulation number 40.\n",
      "Running Monte Carlo simulation number 50.\n",
      "Running Monte Carlo simulation number 60.\n",
      "Running Monte Carlo simulation number 70.\n",
      "Running Monte Carlo simulation number 80.\n",
      "Running Monte Carlo simulation number 90.\n",
      "Running Monte Carlo simulation number 100.\n",
      "Running Monte Carlo simulation number 110.\n",
      "Running Monte Carlo simulation number 120.\n",
      "Running Monte Carlo simulation number 130.\n",
      "Running Monte Carlo simulation number 140.\n",
      "Running Monte Carlo simulation number 150.\n",
      "Running Monte Carlo simulation number 160.\n",
      "Running Monte Carlo simulation number 170.\n",
      "Running Monte Carlo simulation number 180.\n",
      "Running Monte Carlo simulation number 190.\n",
      "Running Monte Carlo simulation number 200.\n",
      "Running Monte Carlo simulation number 210.\n",
      "Running Monte Carlo simulation number 220.\n",
      "Running Monte Carlo simulation number 230.\n",
      "Running Monte Carlo simulation number 240.\n",
      "Running Monte Carlo simulation number 250.\n",
      "Running Monte Carlo simulation number 260.\n",
      "Running Monte Carlo simulation number 270.\n",
      "Running Monte Carlo simulation number 280.\n",
      "Running Monte Carlo simulation number 290.\n",
      "Running Monte Carlo simulation number 300.\n",
      "Running Monte Carlo simulation number 310.\n",
      "Running Monte Carlo simulation number 320.\n",
      "Running Monte Carlo simulation number 330.\n",
      "Running Monte Carlo simulation number 340.\n",
      "Running Monte Carlo simulation number 350.\n",
      "Running Monte Carlo simulation number 360.\n",
      "Running Monte Carlo simulation number 370.\n",
      "Running Monte Carlo simulation number 380.\n",
      "Running Monte Carlo simulation number 390.\n",
      "Running Monte Carlo simulation number 400.\n",
      "Running Monte Carlo simulation number 410.\n",
      "Running Monte Carlo simulation number 420.\n",
      "Running Monte Carlo simulation number 430.\n",
      "Running Monte Carlo simulation number 440.\n",
      "Running Monte Carlo simulation number 450.\n",
      "Running Monte Carlo simulation number 460.\n",
      "Running Monte Carlo simulation number 470.\n",
      "Running Monte Carlo simulation number 480.\n",
      "Running Monte Carlo simulation number 490.\n"
     ]
    },
    {
     "data": {
      "text/html": [
       "<div>\n",
       "<style scoped>\n",
       "    .dataframe tbody tr th:only-of-type {\n",
       "        vertical-align: middle;\n",
       "    }\n",
       "\n",
       "    .dataframe tbody tr th {\n",
       "        vertical-align: top;\n",
       "    }\n",
       "\n",
       "    .dataframe thead th {\n",
       "        text-align: right;\n",
       "    }\n",
       "</style>\n",
       "<table border=\"1\" class=\"dataframe\">\n",
       "  <thead>\n",
       "    <tr style=\"text-align: right;\">\n",
       "      <th></th>\n",
       "      <th>0</th>\n",
       "      <th>1</th>\n",
       "      <th>2</th>\n",
       "      <th>3</th>\n",
       "      <th>4</th>\n",
       "      <th>5</th>\n",
       "      <th>6</th>\n",
       "      <th>7</th>\n",
       "      <th>8</th>\n",
       "      <th>9</th>\n",
       "      <th>...</th>\n",
       "      <th>490</th>\n",
       "      <th>491</th>\n",
       "      <th>492</th>\n",
       "      <th>493</th>\n",
       "      <th>494</th>\n",
       "      <th>495</th>\n",
       "      <th>496</th>\n",
       "      <th>497</th>\n",
       "      <th>498</th>\n",
       "      <th>499</th>\n",
       "    </tr>\n",
       "  </thead>\n",
       "  <tbody>\n",
       "    <tr>\n",
       "      <th>0</th>\n",
       "      <td>1.000000</td>\n",
       "      <td>1.000000</td>\n",
       "      <td>1.000000</td>\n",
       "      <td>1.000000</td>\n",
       "      <td>1.000000</td>\n",
       "      <td>1.000000</td>\n",
       "      <td>1.000000</td>\n",
       "      <td>1.000000</td>\n",
       "      <td>1.000000</td>\n",
       "      <td>1.000000</td>\n",
       "      <td>...</td>\n",
       "      <td>1.000000</td>\n",
       "      <td>1.000000</td>\n",
       "      <td>1.000000</td>\n",
       "      <td>1.000000</td>\n",
       "      <td>1.000000</td>\n",
       "      <td>1.000000</td>\n",
       "      <td>1.000000</td>\n",
       "      <td>1.000000</td>\n",
       "      <td>1.000000</td>\n",
       "      <td>1.000000</td>\n",
       "    </tr>\n",
       "    <tr>\n",
       "      <th>1</th>\n",
       "      <td>0.996547</td>\n",
       "      <td>1.000110</td>\n",
       "      <td>1.001181</td>\n",
       "      <td>1.003208</td>\n",
       "      <td>1.000784</td>\n",
       "      <td>1.001716</td>\n",
       "      <td>1.001822</td>\n",
       "      <td>1.001223</td>\n",
       "      <td>1.004650</td>\n",
       "      <td>1.002783</td>\n",
       "      <td>...</td>\n",
       "      <td>0.993180</td>\n",
       "      <td>1.004856</td>\n",
       "      <td>1.000615</td>\n",
       "      <td>1.003810</td>\n",
       "      <td>1.000337</td>\n",
       "      <td>1.001309</td>\n",
       "      <td>1.006359</td>\n",
       "      <td>0.994544</td>\n",
       "      <td>0.997168</td>\n",
       "      <td>1.003478</td>\n",
       "    </tr>\n",
       "    <tr>\n",
       "      <th>2</th>\n",
       "      <td>0.998497</td>\n",
       "      <td>1.002203</td>\n",
       "      <td>1.002140</td>\n",
       "      <td>0.996691</td>\n",
       "      <td>1.000648</td>\n",
       "      <td>0.999693</td>\n",
       "      <td>1.001821</td>\n",
       "      <td>1.004658</td>\n",
       "      <td>1.002604</td>\n",
       "      <td>1.005030</td>\n",
       "      <td>...</td>\n",
       "      <td>0.988139</td>\n",
       "      <td>1.006150</td>\n",
       "      <td>0.998214</td>\n",
       "      <td>1.001242</td>\n",
       "      <td>0.997949</td>\n",
       "      <td>0.993909</td>\n",
       "      <td>1.005394</td>\n",
       "      <td>0.998834</td>\n",
       "      <td>0.997036</td>\n",
       "      <td>1.003762</td>\n",
       "    </tr>\n",
       "    <tr>\n",
       "      <th>3</th>\n",
       "      <td>0.998075</td>\n",
       "      <td>1.001330</td>\n",
       "      <td>1.007229</td>\n",
       "      <td>0.998213</td>\n",
       "      <td>1.003505</td>\n",
       "      <td>0.994810</td>\n",
       "      <td>1.000275</td>\n",
       "      <td>1.002954</td>\n",
       "      <td>1.006297</td>\n",
       "      <td>1.003944</td>\n",
       "      <td>...</td>\n",
       "      <td>0.988796</td>\n",
       "      <td>1.009780</td>\n",
       "      <td>1.002164</td>\n",
       "      <td>1.001310</td>\n",
       "      <td>0.995732</td>\n",
       "      <td>0.993790</td>\n",
       "      <td>1.009674</td>\n",
       "      <td>0.994244</td>\n",
       "      <td>1.001919</td>\n",
       "      <td>0.997461</td>\n",
       "    </tr>\n",
       "    <tr>\n",
       "      <th>4</th>\n",
       "      <td>1.006190</td>\n",
       "      <td>1.002620</td>\n",
       "      <td>1.008564</td>\n",
       "      <td>0.993582</td>\n",
       "      <td>1.005172</td>\n",
       "      <td>0.991459</td>\n",
       "      <td>0.996249</td>\n",
       "      <td>1.005045</td>\n",
       "      <td>1.003119</td>\n",
       "      <td>1.003536</td>\n",
       "      <td>...</td>\n",
       "      <td>0.987718</td>\n",
       "      <td>1.013527</td>\n",
       "      <td>0.999123</td>\n",
       "      <td>0.999087</td>\n",
       "      <td>0.997431</td>\n",
       "      <td>0.999002</td>\n",
       "      <td>1.012420</td>\n",
       "      <td>0.998659</td>\n",
       "      <td>1.006027</td>\n",
       "      <td>0.997314</td>\n",
       "    </tr>\n",
       "    <tr>\n",
       "      <th>...</th>\n",
       "      <td>...</td>\n",
       "      <td>...</td>\n",
       "      <td>...</td>\n",
       "      <td>...</td>\n",
       "      <td>...</td>\n",
       "      <td>...</td>\n",
       "      <td>...</td>\n",
       "      <td>...</td>\n",
       "      <td>...</td>\n",
       "      <td>...</td>\n",
       "      <td>...</td>\n",
       "      <td>...</td>\n",
       "      <td>...</td>\n",
       "      <td>...</td>\n",
       "      <td>...</td>\n",
       "      <td>...</td>\n",
       "      <td>...</td>\n",
       "      <td>...</td>\n",
       "      <td>...</td>\n",
       "      <td>...</td>\n",
       "      <td>...</td>\n",
       "    </tr>\n",
       "    <tr>\n",
       "      <th>7556</th>\n",
       "      <td>65.609134</td>\n",
       "      <td>52.940635</td>\n",
       "      <td>42.713370</td>\n",
       "      <td>82.415175</td>\n",
       "      <td>34.987492</td>\n",
       "      <td>83.012616</td>\n",
       "      <td>66.876101</td>\n",
       "      <td>54.608107</td>\n",
       "      <td>38.891234</td>\n",
       "      <td>82.917727</td>\n",
       "      <td>...</td>\n",
       "      <td>44.981266</td>\n",
       "      <td>36.342264</td>\n",
       "      <td>52.003746</td>\n",
       "      <td>84.603442</td>\n",
       "      <td>51.513535</td>\n",
       "      <td>67.423245</td>\n",
       "      <td>68.551271</td>\n",
       "      <td>62.285157</td>\n",
       "      <td>51.103709</td>\n",
       "      <td>46.689190</td>\n",
       "    </tr>\n",
       "    <tr>\n",
       "      <th>7557</th>\n",
       "      <td>65.740462</td>\n",
       "      <td>52.940572</td>\n",
       "      <td>42.889139</td>\n",
       "      <td>82.422452</td>\n",
       "      <td>35.176422</td>\n",
       "      <td>83.566935</td>\n",
       "      <td>66.701339</td>\n",
       "      <td>54.632937</td>\n",
       "      <td>38.825946</td>\n",
       "      <td>83.005634</td>\n",
       "      <td>...</td>\n",
       "      <td>45.031818</td>\n",
       "      <td>36.247614</td>\n",
       "      <td>52.448319</td>\n",
       "      <td>84.553524</td>\n",
       "      <td>51.481336</td>\n",
       "      <td>67.506285</td>\n",
       "      <td>68.812860</td>\n",
       "      <td>62.277597</td>\n",
       "      <td>51.110529</td>\n",
       "      <td>46.556690</td>\n",
       "    </tr>\n",
       "    <tr>\n",
       "      <th>7558</th>\n",
       "      <td>66.241465</td>\n",
       "      <td>52.837904</td>\n",
       "      <td>42.933265</td>\n",
       "      <td>82.751783</td>\n",
       "      <td>34.980021</td>\n",
       "      <td>83.617487</td>\n",
       "      <td>66.571121</td>\n",
       "      <td>54.881099</td>\n",
       "      <td>38.751741</td>\n",
       "      <td>83.585566</td>\n",
       "      <td>...</td>\n",
       "      <td>45.127210</td>\n",
       "      <td>36.239820</td>\n",
       "      <td>52.238230</td>\n",
       "      <td>84.412060</td>\n",
       "      <td>51.506367</td>\n",
       "      <td>67.174461</td>\n",
       "      <td>69.223007</td>\n",
       "      <td>62.210289</td>\n",
       "      <td>50.940039</td>\n",
       "      <td>46.669222</td>\n",
       "    </tr>\n",
       "    <tr>\n",
       "      <th>7559</th>\n",
       "      <td>65.998652</td>\n",
       "      <td>52.791623</td>\n",
       "      <td>43.004169</td>\n",
       "      <td>82.679347</td>\n",
       "      <td>34.710909</td>\n",
       "      <td>83.366066</td>\n",
       "      <td>66.525489</td>\n",
       "      <td>54.944457</td>\n",
       "      <td>38.822428</td>\n",
       "      <td>84.201267</td>\n",
       "      <td>...</td>\n",
       "      <td>45.073483</td>\n",
       "      <td>36.203808</td>\n",
       "      <td>52.038078</td>\n",
       "      <td>84.162629</td>\n",
       "      <td>51.277064</td>\n",
       "      <td>67.187617</td>\n",
       "      <td>69.269122</td>\n",
       "      <td>62.131839</td>\n",
       "      <td>50.913691</td>\n",
       "      <td>46.324650</td>\n",
       "    </tr>\n",
       "    <tr>\n",
       "      <th>7560</th>\n",
       "      <td>66.022136</td>\n",
       "      <td>52.724027</td>\n",
       "      <td>43.018229</td>\n",
       "      <td>82.427584</td>\n",
       "      <td>34.849669</td>\n",
       "      <td>83.366367</td>\n",
       "      <td>66.300800</td>\n",
       "      <td>54.799731</td>\n",
       "      <td>38.693800</td>\n",
       "      <td>84.116223</td>\n",
       "      <td>...</td>\n",
       "      <td>44.995565</td>\n",
       "      <td>36.191634</td>\n",
       "      <td>51.927013</td>\n",
       "      <td>83.582291</td>\n",
       "      <td>51.722430</td>\n",
       "      <td>67.242851</td>\n",
       "      <td>69.457300</td>\n",
       "      <td>62.283401</td>\n",
       "      <td>51.309713</td>\n",
       "      <td>46.145228</td>\n",
       "    </tr>\n",
       "  </tbody>\n",
       "</table>\n",
       "<p>7561 rows × 500 columns</p>\n",
       "</div>"
      ],
      "text/plain": [
       "            0          1          2          3          4          5    \\\n",
       "0      1.000000   1.000000   1.000000   1.000000   1.000000   1.000000   \n",
       "1      0.996547   1.000110   1.001181   1.003208   1.000784   1.001716   \n",
       "2      0.998497   1.002203   1.002140   0.996691   1.000648   0.999693   \n",
       "3      0.998075   1.001330   1.007229   0.998213   1.003505   0.994810   \n",
       "4      1.006190   1.002620   1.008564   0.993582   1.005172   0.991459   \n",
       "...         ...        ...        ...        ...        ...        ...   \n",
       "7556  65.609134  52.940635  42.713370  82.415175  34.987492  83.012616   \n",
       "7557  65.740462  52.940572  42.889139  82.422452  35.176422  83.566935   \n",
       "7558  66.241465  52.837904  42.933265  82.751783  34.980021  83.617487   \n",
       "7559  65.998652  52.791623  43.004169  82.679347  34.710909  83.366066   \n",
       "7560  66.022136  52.724027  43.018229  82.427584  34.849669  83.366367   \n",
       "\n",
       "            6          7          8          9    ...        490        491  \\\n",
       "0      1.000000   1.000000   1.000000   1.000000  ...   1.000000   1.000000   \n",
       "1      1.001822   1.001223   1.004650   1.002783  ...   0.993180   1.004856   \n",
       "2      1.001821   1.004658   1.002604   1.005030  ...   0.988139   1.006150   \n",
       "3      1.000275   1.002954   1.006297   1.003944  ...   0.988796   1.009780   \n",
       "4      0.996249   1.005045   1.003119   1.003536  ...   0.987718   1.013527   \n",
       "...         ...        ...        ...        ...  ...        ...        ...   \n",
       "7556  66.876101  54.608107  38.891234  82.917727  ...  44.981266  36.342264   \n",
       "7557  66.701339  54.632937  38.825946  83.005634  ...  45.031818  36.247614   \n",
       "7558  66.571121  54.881099  38.751741  83.585566  ...  45.127210  36.239820   \n",
       "7559  66.525489  54.944457  38.822428  84.201267  ...  45.073483  36.203808   \n",
       "7560  66.300800  54.799731  38.693800  84.116223  ...  44.995565  36.191634   \n",
       "\n",
       "            492        493        494        495        496        497  \\\n",
       "0      1.000000   1.000000   1.000000   1.000000   1.000000   1.000000   \n",
       "1      1.000615   1.003810   1.000337   1.001309   1.006359   0.994544   \n",
       "2      0.998214   1.001242   0.997949   0.993909   1.005394   0.998834   \n",
       "3      1.002164   1.001310   0.995732   0.993790   1.009674   0.994244   \n",
       "4      0.999123   0.999087   0.997431   0.999002   1.012420   0.998659   \n",
       "...         ...        ...        ...        ...        ...        ...   \n",
       "7556  52.003746  84.603442  51.513535  67.423245  68.551271  62.285157   \n",
       "7557  52.448319  84.553524  51.481336  67.506285  68.812860  62.277597   \n",
       "7558  52.238230  84.412060  51.506367  67.174461  69.223007  62.210289   \n",
       "7559  52.038078  84.162629  51.277064  67.187617  69.269122  62.131839   \n",
       "7560  51.927013  83.582291  51.722430  67.242851  69.457300  62.283401   \n",
       "\n",
       "            498        499  \n",
       "0      1.000000   1.000000  \n",
       "1      0.997168   1.003478  \n",
       "2      0.997036   1.003762  \n",
       "3      1.001919   0.997461  \n",
       "4      1.006027   0.997314  \n",
       "...         ...        ...  \n",
       "7556  51.103709  46.689190  \n",
       "7557  51.110529  46.556690  \n",
       "7558  50.940039  46.669222  \n",
       "7559  50.913691  46.324650  \n",
       "7560  51.309713  46.145228  \n",
       "\n",
       "[7561 rows x 500 columns]"
      ]
     },
     "execution_count": 18,
     "metadata": {},
     "output_type": "execute_result"
    }
   ],
   "source": [
    "# Running a Monte Carlo simulation to forecast 30 years cumulative returns\n",
    "MC_PORTFOLIO.calc_cumulative_return()"
   ]
  },
  {
   "cell_type": "code",
   "execution_count": 19,
   "metadata": {},
   "outputs": [
    {
     "data": {
      "text/html": [
       "<div>\n",
       "<style scoped>\n",
       "    .dataframe tbody tr th:only-of-type {\n",
       "        vertical-align: middle;\n",
       "    }\n",
       "\n",
       "    .dataframe tbody tr th {\n",
       "        vertical-align: top;\n",
       "    }\n",
       "\n",
       "    .dataframe thead th {\n",
       "        text-align: right;\n",
       "    }\n",
       "</style>\n",
       "<table border=\"1\" class=\"dataframe\">\n",
       "  <thead>\n",
       "    <tr style=\"text-align: right;\">\n",
       "      <th></th>\n",
       "      <th>mean</th>\n",
       "      <th>median</th>\n",
       "      <th>min</th>\n",
       "      <th>max</th>\n",
       "    </tr>\n",
       "  </thead>\n",
       "  <tbody>\n",
       "    <tr>\n",
       "      <th>0</th>\n",
       "      <td>1.000000</td>\n",
       "      <td>1.000000</td>\n",
       "      <td>1.000000</td>\n",
       "      <td>1.000000</td>\n",
       "    </tr>\n",
       "    <tr>\n",
       "      <th>1</th>\n",
       "      <td>1.000401</td>\n",
       "      <td>1.000507</td>\n",
       "      <td>0.989402</td>\n",
       "      <td>1.011201</td>\n",
       "    </tr>\n",
       "    <tr>\n",
       "      <th>2</th>\n",
       "      <td>1.000705</td>\n",
       "      <td>1.000785</td>\n",
       "      <td>0.987249</td>\n",
       "      <td>1.017655</td>\n",
       "    </tr>\n",
       "    <tr>\n",
       "      <th>3</th>\n",
       "      <td>1.001276</td>\n",
       "      <td>1.001293</td>\n",
       "      <td>0.982004</td>\n",
       "      <td>1.021567</td>\n",
       "    </tr>\n",
       "    <tr>\n",
       "      <th>4</th>\n",
       "      <td>1.001926</td>\n",
       "      <td>1.001643</td>\n",
       "      <td>0.980858</td>\n",
       "      <td>1.022920</td>\n",
       "    </tr>\n",
       "  </tbody>\n",
       "</table>\n",
       "</div>"
      ],
      "text/plain": [
       "       mean    median       min       max\n",
       "0  1.000000  1.000000  1.000000  1.000000\n",
       "1  1.000401  1.000507  0.989402  1.011201\n",
       "2  1.000705  1.000785  0.987249  1.017655\n",
       "3  1.001276  1.001293  0.982004  1.021567\n",
       "4  1.001926  1.001643  0.980858  1.022920"
      ]
     },
     "execution_count": 19,
     "metadata": {},
     "output_type": "execute_result"
    }
   ],
   "source": [
    "#setting up data for plot\n",
    "simulated_returns_data = {\n",
    "    \"mean\": list(MC_PORTFOLIO.simulated_return.mean(axis=1)),\n",
    "    \"median\": list(MC_PORTFOLIO.simulated_return.median(axis=1)),\n",
    "    \"min\": list(MC_PORTFOLIO.simulated_return.min(axis=1)),\n",
    "    \"max\": list(MC_PORTFOLIO.simulated_return.max(axis=1))\n",
    "}\n",
    "sim_returns = pd.DataFrame(simulated_returns_data)\n",
    "sim_returns.head()"
   ]
  },
  {
   "cell_type": "code",
   "execution_count": 20,
   "metadata": {},
   "outputs": [
    {
     "data": {
      "image/png": "[encoded data removed]",
      "text/plain": [
       "<Figure size 432x288 with 1 Axes>"
      ]
     },
     "metadata": {
      "needs_background": "light"
     },
     "output_type": "display_data"
    }
   ],
   "source": [
    "# Plot simulation outcomes\n",
    "line_plot_portfolio = MC_PORTFOLIO.plot_simulation()"
   ]
  },
  {
   "cell_type": "code",
   "execution_count": 21,
   "metadata": {},
   "outputs": [
    {
     "data": {
      "text/plain": [
       "<AxesSubplot:>"
      ]
     },
     "execution_count": 21,
     "metadata": {},
     "output_type": "execute_result"
    },
    {
     "data": {
      "image/png": "[encoded data removed]",
      "text/plain": [
       "<Figure size 864x864 with 1 Axes>"
      ]
     },
     "metadata": {
      "needs_background": "light"
     },
     "output_type": "display_data"
    }
   ],
   "source": [
    "sim_returns.plot(figsize = (12,12))"
   ]
  },
  {
   "cell_type": "code",
   "execution_count": 22,
   "metadata": {},
   "outputs": [],
   "source": [
    "# Plot probability distribution and confidence intervals\n",
    "# YOUR CODE HERE!"
   ]
  },
  {
   "cell_type": "markdown",
   "metadata": {},
   "source": [
    "### Retirement Analysis"
   ]
  },
  {
   "cell_type": "code",
   "execution_count": 23,
   "metadata": {},
   "outputs": [
    {
     "data": {
      "text/html": [
       "<div>\n",
       "<style scoped>\n",
       "    .dataframe tbody tr th:only-of-type {\n",
       "        vertical-align: middle;\n",
       "    }\n",
       "\n",
       "    .dataframe tbody tr th {\n",
       "        vertical-align: top;\n",
       "    }\n",
       "\n",
       "    .dataframe thead th {\n",
       "        text-align: right;\n",
       "    }\n",
       "</style>\n",
       "<table border=\"1\" class=\"dataframe\">\n",
       "  <thead>\n",
       "    <tr style=\"text-align: right;\">\n",
       "      <th></th>\n",
       "      <th>mean</th>\n",
       "      <th>median</th>\n",
       "      <th>min</th>\n",
       "      <th>max</th>\n",
       "    </tr>\n",
       "  </thead>\n",
       "  <tbody>\n",
       "    <tr>\n",
       "      <th>0</th>\n",
       "      <td>1.000000</td>\n",
       "      <td>1.000000</td>\n",
       "      <td>1.000000</td>\n",
       "      <td>1.000000</td>\n",
       "    </tr>\n",
       "    <tr>\n",
       "      <th>1</th>\n",
       "      <td>1.000401</td>\n",
       "      <td>1.000507</td>\n",
       "      <td>0.989402</td>\n",
       "      <td>1.011201</td>\n",
       "    </tr>\n",
       "    <tr>\n",
       "      <th>2</th>\n",
       "      <td>1.000705</td>\n",
       "      <td>1.000785</td>\n",
       "      <td>0.987249</td>\n",
       "      <td>1.017655</td>\n",
       "    </tr>\n",
       "    <tr>\n",
       "      <th>3</th>\n",
       "      <td>1.001276</td>\n",
       "      <td>1.001293</td>\n",
       "      <td>0.982004</td>\n",
       "      <td>1.021567</td>\n",
       "    </tr>\n",
       "    <tr>\n",
       "      <th>4</th>\n",
       "      <td>1.001926</td>\n",
       "      <td>1.001643</td>\n",
       "      <td>0.980858</td>\n",
       "      <td>1.022920</td>\n",
       "    </tr>\n",
       "    <tr>\n",
       "      <th>...</th>\n",
       "      <td>...</td>\n",
       "      <td>...</td>\n",
       "      <td>...</td>\n",
       "      <td>...</td>\n",
       "    </tr>\n",
       "    <tr>\n",
       "      <th>7556</th>\n",
       "      <td>68.492628</td>\n",
       "      <td>65.437456</td>\n",
       "      <td>28.935312</td>\n",
       "      <td>170.883790</td>\n",
       "    </tr>\n",
       "    <tr>\n",
       "      <th>7557</th>\n",
       "      <td>68.535395</td>\n",
       "      <td>65.422635</td>\n",
       "      <td>29.004339</td>\n",
       "      <td>171.754142</td>\n",
       "    </tr>\n",
       "    <tr>\n",
       "      <th>7558</th>\n",
       "      <td>68.592896</td>\n",
       "      <td>65.370345</td>\n",
       "      <td>29.045475</td>\n",
       "      <td>171.001849</td>\n",
       "    </tr>\n",
       "    <tr>\n",
       "      <th>7559</th>\n",
       "      <td>68.608404</td>\n",
       "      <td>65.455543</td>\n",
       "      <td>29.028917</td>\n",
       "      <td>171.248801</td>\n",
       "    </tr>\n",
       "    <tr>\n",
       "      <th>7560</th>\n",
       "      <td>68.641177</td>\n",
       "      <td>65.627256</td>\n",
       "      <td>28.998962</td>\n",
       "      <td>169.921818</td>\n",
       "    </tr>\n",
       "  </tbody>\n",
       "</table>\n",
       "<p>7561 rows × 4 columns</p>\n",
       "</div>"
      ],
      "text/plain": [
       "           mean     median        min         max\n",
       "0      1.000000   1.000000   1.000000    1.000000\n",
       "1      1.000401   1.000507   0.989402    1.011201\n",
       "2      1.000705   1.000785   0.987249    1.017655\n",
       "3      1.001276   1.001293   0.982004    1.021567\n",
       "4      1.001926   1.001643   0.980858    1.022920\n",
       "...         ...        ...        ...         ...\n",
       "7556  68.492628  65.437456  28.935312  170.883790\n",
       "7557  68.535395  65.422635  29.004339  171.754142\n",
       "7558  68.592896  65.370345  29.045475  171.001849\n",
       "7559  68.608404  65.455543  29.028917  171.248801\n",
       "7560  68.641177  65.627256  28.998962  169.921818\n",
       "\n",
       "[7561 rows x 4 columns]"
      ]
     },
     "execution_count": 23,
     "metadata": {},
     "output_type": "execute_result"
    }
   ],
   "source": [
    "# Fetch summary statistics from the Monte Carlo simulation results\n",
    "# YOUR CODE HERE!\n",
    "\n",
    "# Print summary statistics\n",
    "sim_returns"
   ]
  },
  {
   "cell_type": "markdown",
   "metadata": {},
   "source": [
    "### Calculate the expected portfolio return at the 95% lower and upper confidence intervals based on a `$20,000` initial investment."
   ]
  },
  {
   "cell_type": "code",
   "execution_count": 24,
   "metadata": {},
   "outputs": [
    {
     "data": {
      "text/html": [
       "<div>\n",
       "<style scoped>\n",
       "    .dataframe tbody tr th:only-of-type {\n",
       "        vertical-align: middle;\n",
       "    }\n",
       "\n",
       "    .dataframe tbody tr th {\n",
       "        vertical-align: top;\n",
       "    }\n",
       "\n",
       "    .dataframe thead th {\n",
       "        text-align: right;\n",
       "    }\n",
       "</style>\n",
       "<table border=\"1\" class=\"dataframe\">\n",
       "  <thead>\n",
       "    <tr style=\"text-align: right;\">\n",
       "      <th></th>\n",
       "      <th>mean</th>\n",
       "      <th>median</th>\n",
       "      <th>min</th>\n",
       "      <th>max</th>\n",
       "    </tr>\n",
       "  </thead>\n",
       "  <tbody>\n",
       "    <tr>\n",
       "      <th>0</th>\n",
       "      <td>20000.000000</td>\n",
       "      <td>20000.000000</td>\n",
       "      <td>20000.000000</td>\n",
       "      <td>20000.000000</td>\n",
       "    </tr>\n",
       "    <tr>\n",
       "      <th>1</th>\n",
       "      <td>20008.014482</td>\n",
       "      <td>20010.145599</td>\n",
       "      <td>19788.038547</td>\n",
       "      <td>20224.017756</td>\n",
       "    </tr>\n",
       "    <tr>\n",
       "      <th>2</th>\n",
       "      <td>20014.090789</td>\n",
       "      <td>20015.693679</td>\n",
       "      <td>19744.970639</td>\n",
       "      <td>20353.105419</td>\n",
       "    </tr>\n",
       "    <tr>\n",
       "      <th>3</th>\n",
       "      <td>20025.529703</td>\n",
       "      <td>20025.850184</td>\n",
       "      <td>19640.075432</td>\n",
       "      <td>20431.337602</td>\n",
       "    </tr>\n",
       "    <tr>\n",
       "      <th>4</th>\n",
       "      <td>20038.511547</td>\n",
       "      <td>20032.851095</td>\n",
       "      <td>19617.153302</td>\n",
       "      <td>20458.399319</td>\n",
       "    </tr>\n",
       "  </tbody>\n",
       "</table>\n",
       "</div>"
      ],
      "text/plain": [
       "           mean        median           min           max\n",
       "0  20000.000000  20000.000000  20000.000000  20000.000000\n",
       "1  20008.014482  20010.145599  19788.038547  20224.017756\n",
       "2  20014.090789  20015.693679  19744.970639  20353.105419\n",
       "3  20025.529703  20025.850184  19640.075432  20431.337602\n",
       "4  20038.511547  20032.851095  19617.153302  20458.399319"
      ]
     },
     "execution_count": 24,
     "metadata": {},
     "output_type": "execute_result"
    }
   ],
   "source": [
    "# Set initial investment\n",
    "initial_investment = 20000\n",
    "cumulative_pnl = initial_investment * sim_returns\n",
    "cumulative_pnl.head()\n"
   ]
  },
  {
   "cell_type": "code",
   "execution_count": 25,
   "metadata": {},
   "outputs": [
    {
     "name": "stdout",
     "output_type": "stream",
     "text": [
      "There is a 95% chance that an initial investment of $20000 in the portfolio over the next 30 years will end within in the range of $360023.78 and $1184145.63\n"
     ]
    }
   ],
   "source": [
    "# Use the lower and upper `95%` confidence intervals to calculate the range of the possible outcomes of our $20,000\n",
    "tbl = MC_PORTFOLIO.summarize_cumulative_return()\n",
    "ci_lower = round(tbl[8]*10000,2)\n",
    "ci_upper = round(tbl[9]*10000,2)\n",
    "# Print results\n",
    "print(f\"There is a 95% chance that an initial investment of ${initial_investment} in the portfolio\"\n",
    "      f\" over the next 30 years will end within in the range of\"\n",
    "      f\" ${ci_lower} and ${ci_upper}\")"
   ]
  },
  {
   "cell_type": "markdown",
   "metadata": {},
   "source": [
    "### Calculate the expected portfolio return at the `95%` lower and upper confidence intervals based on a `50%` increase in the initial investment."
   ]
  },
  {
   "cell_type": "code",
   "execution_count": 26,
   "metadata": {},
   "outputs": [
    {
     "name": "stdout",
     "output_type": "stream",
     "text": [
      "There is a 95% chance that an initial investment of $30000.0 in the portfolio over the next 30 years will end within in the range of $360023.78 and $1184145.63\n"
     ]
    }
   ],
   "source": [
    "# Set initial investment\n",
    "initial_investment = 20000 * 1.5\n",
    "\n",
    "# Use the lower and upper `95%` confidence intervals to calculate the range of the possible outcomes of our $30,000\n",
    "# YOUR CODE HERE!\n",
    "\n",
    "# Print results\n",
    "print(f\"There is a 95% chance that an initial investment of ${initial_investment} in the portfolio\"\n",
    "      f\" over the next 30 years will end within in the range of\"\n",
    "      f\" ${ci_lower} and ${ci_upper}\")"
   ]
  },
  {
   "cell_type": "markdown",
   "metadata": {},
   "source": [
    "## Optional Challenge - Early Retirement\n",
    "\n",
    "\n",
    "### Five Years Retirement Option"
   ]
  },
  {
   "cell_type": "code",
   "execution_count": 27,
   "metadata": {},
   "outputs": [],
   "source": [
    "# Configuring a Monte Carlo simulation to forecast 5 years cumulative returns\n",
    "# YOUR CODE HERE!"
   ]
  },
  {
   "cell_type": "code",
   "execution_count": 28,
   "metadata": {},
   "outputs": [],
   "source": [
    "# Running a Monte Carlo simulation to forecast 5 years cumulative returns\n",
    "# YOUR CODE HERE!"
   ]
  },
  {
   "cell_type": "code",
   "execution_count": 29,
   "metadata": {},
   "outputs": [],
   "source": [
    "# Plot simulation outcomes\n",
    "# YOUR CODE HERE!"
   ]
  },
  {
   "cell_type": "code",
   "execution_count": 30,
   "metadata": {},
   "outputs": [],
   "source": [
    "# Plot probability distribution and confidence intervals\n",
    "# YOUR CODE HERE!"
   ]
  },
  {
   "cell_type": "code",
   "execution_count": 31,
   "metadata": {},
   "outputs": [],
   "source": [
    "# Fetch summary statistics from the Monte Carlo simulation results\n",
    "# YOUR CODE HERE!\n",
    "\n",
    "# Print summary statistics\n",
    "# YOUR CODE HERE!"
   ]
  },
  {
   "cell_type": "code",
   "execution_count": 32,
   "metadata": {},
   "outputs": [
    {
     "ename": "NameError",
     "evalue": "name 'ci_lower_five' is not defined",
     "output_type": "error",
     "traceback": [
      "\u001b[1;31m---------------------------------------------------------------------------\u001b[0m",
      "\u001b[1;31mNameError\u001b[0m                                 Traceback (most recent call last)",
      "\u001b[1;32m<ipython-input-32-d56b774f48d0>\u001b[0m in \u001b[0;36m<module>\u001b[1;34m\u001b[0m\n\u001b[0;32m      6\u001b[0m \u001b[1;33m\u001b[0m\u001b[0m\n\u001b[0;32m      7\u001b[0m \u001b[1;31m# Print results\u001b[0m\u001b[1;33m\u001b[0m\u001b[1;33m\u001b[0m\u001b[1;33m\u001b[0m\u001b[0m\n\u001b[1;32m----> 8\u001b[1;33m print(f\"There is a 95% chance that an initial investment of ${initial_investment} in the portfolio\"\n\u001b[0m\u001b[0;32m      9\u001b[0m       \u001b[1;34mf\" over the next 5 years will end within in the range of\"\u001b[0m\u001b[1;33m\u001b[0m\u001b[1;33m\u001b[0m\u001b[0m\n\u001b[0;32m     10\u001b[0m       f\" ${ci_lower_five} and ${ci_upper_five}\")\n",
      "\u001b[1;31mNameError\u001b[0m: name 'ci_lower_five' is not defined"
     ]
    }
   ],
   "source": [
    "# Set initial investment\n",
    "# YOUR CODE HERE!\n",
    "\n",
    "# Use the lower and upper `95%` confidence intervals to calculate the range of the possible outcomes of our $60,000\n",
    "# YOUR CODE HERE!\n",
    "\n",
    "# Print results\n",
    "print(f\"There is a 95% chance that an initial investment of ${initial_investment} in the portfolio\"\n",
    "      f\" over the next 5 years will end within in the range of\"\n",
    "      f\" ${ci_lower_five} and ${ci_upper_five}\")"
   ]
  },
  {
   "cell_type": "markdown",
   "metadata": {},
   "source": [
    "### Ten Years Retirement Option"
   ]
  },
  {
   "cell_type": "code",
   "execution_count": null,
   "metadata": {},
   "outputs": [],
   "source": [
    "# Configuring a Monte Carlo simulation to forecast 10 years cumulative returns\n",
    "# YOUR CODE HERE!"
   ]
  },
  {
   "cell_type": "code",
   "execution_count": null,
   "metadata": {},
   "outputs": [],
   "source": [
    "# Running a Monte Carlo simulation to forecast 10 years cumulative returns\n",
    "# YOUR CODE HERE!"
   ]
  },
  {
   "cell_type": "code",
   "execution_count": null,
   "metadata": {},
   "outputs": [],
   "source": [
    "# Plot simulation outcomes\n",
    "# YOUR CODE HERE!"
   ]
  },
  {
   "cell_type": "code",
   "execution_count": null,
   "metadata": {},
   "outputs": [],
   "source": [
    "# Plot probability distribution and confidence intervals\n",
    "# YOUR CODE HERE!"
   ]
  },
  {
   "cell_type": "code",
   "execution_count": null,
   "metadata": {},
   "outputs": [],
   "source": [
    "# Fetch summary statistics from the Monte Carlo simulation results\n",
    "# YOUR CODE HERE!\n",
    "\n",
    "# Print summary statistics\n",
    "# YOUR CODE HERE!"
   ]
  },
  {
   "cell_type": "code",
   "execution_count": null,
   "metadata": {},
   "outputs": [],
   "source": [
    "# Set initial investment\n",
    "# YOUR CODE HERE!\n",
    "\n",
    "# Use the lower and upper `95%` confidence intervals to calculate the range of the possible outcomes of our $60,000\n",
    "# YOUR CODE HERE!\n",
    "\n",
    "# Print results\n",
    "print(f\"There is a 95% chance that an initial investment of ${initial_investment} in the portfolio\"\n",
    "      f\" over the next 10 years will end within in the range of\"\n",
    "      f\" ${ci_lower_ten} and ${ci_upper_ten}\")"
   ]
  }
 ],
 "metadata": {
  "kernelspec": {
   "display_name": "Python 3",
   "language": "python",
   "name": "python3"
  },
  "language_info": {
   "codemirror_mode": {
    "name": "ipython",
    "version": 3
   },
   "file_extension": ".py",
   "mimetype": "text/x-python",
   "name": "python",
   "nbconvert_exporter": "python",
   "pygments_lexer": "ipython3",
   "version": "3.7.10"
  }
 },
 "nbformat": 4,
 "nbformat_minor": 4
}
